{
 "cells": [
  {
   "cell_type": "markdown",
   "metadata": {
    "collapsed": true
   },
   "source": [
    "# Language Translation\n",
    "In this project, you’re going to take a peek into the realm of neural network machine translation.  You’ll be training a sequence to sequence model on a dataset of English and French sentences that can translate new sentences from English to French.\n",
    "## Get the Data\n",
    "Since translating the whole language of English to French will take lots of time to train, we have provided you with a small portion of the English corpus."
   ]
  },
  {
   "cell_type": "code",
   "execution_count": 1,
   "metadata": {
    "collapsed": true
   },
   "outputs": [],
   "source": [
    "\"\"\"\n",
    "DON'T MODIFY ANYTHING IN THIS CELL\n",
    "\"\"\"\n",
    "import helper\n",
    "import problem_unittests as tests\n",
    "\n",
    "source_path = 'data/small_vocab_en'\n",
    "target_path = 'data/small_vocab_fr'\n",
    "source_text = helper.load_data(source_path)\n",
    "target_text = helper.load_data(target_path)"
   ]
  },
  {
   "cell_type": "markdown",
   "metadata": {},
   "source": [
    "## Explore the Data\n",
    "Play around with view_sentence_range to view different parts of the data."
   ]
  },
  {
   "cell_type": "code",
   "execution_count": 2,
   "metadata": {},
   "outputs": [
    {
     "name": "stdout",
     "output_type": "stream",
     "text": [
      "Dataset Stats\n",
      "Roughly the number of unique words: 227\n",
      "Number of sentences: 137861\n",
      "Average number of words in a sentence: 13.225277634719028\n",
      "\n",
      "English sentences 0 to 10:\n",
      "new jersey is sometimes quiet during autumn , and it is snowy in april .\n",
      "the united states is usually chilly during july , and it is usually freezing in november .\n",
      "california is usually quiet during march , and it is usually hot in june .\n",
      "the united states is sometimes mild during june , and it is cold in september .\n",
      "your least liked fruit is the grape , but my least liked is the apple .\n",
      "his favorite fruit is the orange , but my favorite is the grape .\n",
      "paris is relaxing during december , but it is usually chilly in july .\n",
      "new jersey is busy during spring , and it is never hot in march .\n",
      "our least liked fruit is the lemon , but my least liked is the grape .\n",
      "the united states is sometimes busy during january , and it is sometimes warm in november .\n",
      "\n",
      "French sentences 0 to 10:\n",
      "new jersey est parfois calme pendant l' automne , et il est neigeux en avril .\n",
      "les états-unis est généralement froid en juillet , et il gèle habituellement en novembre .\n",
      "california est généralement calme en mars , et il est généralement chaud en juin .\n",
      "les états-unis est parfois légère en juin , et il fait froid en septembre .\n",
      "votre moins aimé fruit est le raisin , mais mon moins aimé est la pomme .\n",
      "son fruit préféré est l'orange , mais mon préféré est le raisin .\n",
      "paris est relaxant en décembre , mais il est généralement froid en juillet .\n",
      "new jersey est occupé au printemps , et il est jamais chaude en mars .\n",
      "notre fruit est moins aimé le citron , mais mon moins aimé est le raisin .\n",
      "les états-unis est parfois occupé en janvier , et il est parfois chaud en novembre .\n"
     ]
    }
   ],
   "source": [
    "view_sentence_range = (0, 10)\n",
    "\n",
    "\"\"\"\n",
    "DON'T MODIFY ANYTHING IN THIS CELL\n",
    "\"\"\"\n",
    "import numpy as np\n",
    "\n",
    "print('Dataset Stats')\n",
    "print('Roughly the number of unique words: {}'.format(len({word: None for word in source_text.split()})))\n",
    "\n",
    "sentences = source_text.split('\\n')\n",
    "word_counts = [len(sentence.split()) for sentence in sentences]\n",
    "print('Number of sentences: {}'.format(len(sentences)))\n",
    "print('Average number of words in a sentence: {}'.format(np.average(word_counts)))\n",
    "\n",
    "print()\n",
    "print('English sentences {} to {}:'.format(*view_sentence_range))\n",
    "print('\\n'.join(source_text.split('\\n')[view_sentence_range[0]:view_sentence_range[1]]))\n",
    "print()\n",
    "print('French sentences {} to {}:'.format(*view_sentence_range))\n",
    "print('\\n'.join(target_text.split('\\n')[view_sentence_range[0]:view_sentence_range[1]]))"
   ]
  },
  {
   "cell_type": "markdown",
   "metadata": {},
   "source": [
    "## Implement Preprocessing Function\n",
    "### Text to Word Ids\n",
    "As you did with other RNNs, you must turn the text into a number so the computer can understand it. In the function `text_to_ids()`, you'll turn `source_text` and `target_text` from words to ids.  However, you need to add the `<EOS>` word id at the end of `target_text`.  This will help the neural network predict when the sentence should end.\n",
    "\n",
    "You can get the `<EOS>` word id by doing:\n",
    "```python\n",
    "target_vocab_to_int['<EOS>']\n",
    "```\n",
    "You can get other word ids using `source_vocab_to_int` and `target_vocab_to_int`."
   ]
  },
  {
   "cell_type": "code",
   "execution_count": 3,
   "metadata": {},
   "outputs": [
    {
     "name": "stdout",
     "output_type": "stream",
     "text": [
      "Tests Passed\n"
     ]
    }
   ],
   "source": [
    "def text_to_ids(source_text, target_text, source_vocab_to_int, target_vocab_to_int):\n",
    "    \"\"\"\n",
    "    Convert source and target text to proper word ids\n",
    "    :param source_text: String that contains all the source text.\n",
    "    :param target_text: String that contains all the target text.\n",
    "    :param source_vocab_to_int: Dictionary to go from the source words to an id\n",
    "    :param target_vocab_to_int: Dictionary to go from the target words to an id\n",
    "    :return: A tuple of lists (source_id_text, target_id_text)\n",
    "    \"\"\"\n",
    "    # TODO: Implement Function\n",
    "    source_text_ids = [[source_vocab_to_int.get(word, source_vocab_to_int['<UNK>']) for word in line.split(' ')] for line in source_text.split('\\n')]\n",
    "#     print('source_text:')\n",
    "#     print(source_text)\n",
    "#     print('source_text_splitted:')\n",
    "#     print([line for line in source_text.split('\\n')])\n",
    "#     print('source_text_double_splitted:')\n",
    "#     print([[word for word in line.split(' ')] for line in source_text.split('\\n')])\n",
    "#     print('source_text_ids:')\n",
    "#     print(source_text_ids)\n",
    "    target_text_ids = [[target_vocab_to_int.get(word, target_vocab_to_int['<UNK>']) for word in line.split(' ')] + [target_vocab_to_int['<EOS>']] for line in target_text.split('\\n')] \n",
    "    \n",
    "    \n",
    "    return source_text_ids, target_text_ids\n",
    "\n",
    "\"\"\"\n",
    "DON'T MODIFY ANYTHING IN THIS CELL THAT IS BELOW THIS LINE\n",
    "\"\"\"\n",
    "tests.test_text_to_ids(text_to_ids)"
   ]
  },
  {
   "cell_type": "markdown",
   "metadata": {},
   "source": [
    "### Preprocess all the data and save it\n",
    "Running the code cell below will preprocess all the data and save it to file."
   ]
  },
  {
   "cell_type": "code",
   "execution_count": 4,
   "metadata": {
    "collapsed": true
   },
   "outputs": [],
   "source": [
    "\"\"\"\n",
    "DON'T MODIFY ANYTHING IN THIS CELL\n",
    "\"\"\"\n",
    "helper.preprocess_and_save_data(source_path, target_path, text_to_ids)"
   ]
  },
  {
   "cell_type": "markdown",
   "metadata": {},
   "source": [
    "# Check Point\n",
    "This is your first checkpoint. If you ever decide to come back to this notebook or have to restart the notebook, you can start from here. The preprocessed data has been saved to disk."
   ]
  },
  {
   "cell_type": "code",
   "execution_count": 5,
   "metadata": {
    "collapsed": true
   },
   "outputs": [],
   "source": [
    "\"\"\"\n",
    "DON'T MODIFY ANYTHING IN THIS CELL\n",
    "\"\"\"\n",
    "import numpy as np\n",
    "import helper\n",
    "\n",
    "(source_int_text, target_int_text), (source_vocab_to_int, target_vocab_to_int), _ = helper.load_preprocess()"
   ]
  },
  {
   "cell_type": "markdown",
   "metadata": {},
   "source": [
    "### Check the Version of TensorFlow and Access to GPU\n",
    "This will check to make sure you have the correct version of TensorFlow and access to a GPU"
   ]
  },
  {
   "cell_type": "code",
   "execution_count": 6,
   "metadata": {},
   "outputs": [
    {
     "name": "stdout",
     "output_type": "stream",
     "text": [
      "TensorFlow Version: 1.1.0\n",
      "Default GPU Device: /gpu:0\n"
     ]
    }
   ],
   "source": [
    "\"\"\"\n",
    "DON'T MODIFY ANYTHING IN THIS CELL\n",
    "\"\"\"\n",
    "from distutils.version import LooseVersion\n",
    "import warnings\n",
    "import tensorflow as tf\n",
    "from tensorflow.python.layers.core import Dense\n",
    "\n",
    "# Check TensorFlow Version\n",
    "assert LooseVersion(tf.__version__) >= LooseVersion('1.1'), 'Please use TensorFlow version 1.1 or newer'\n",
    "print('TensorFlow Version: {}'.format(tf.__version__))\n",
    "\n",
    "# Check for a GPU\n",
    "if not tf.test.gpu_device_name():\n",
    "    warnings.warn('No GPU found. Please use a GPU to train your neural network.')\n",
    "else:\n",
    "    print('Default GPU Device: {}'.format(tf.test.gpu_device_name()))"
   ]
  },
  {
   "cell_type": "markdown",
   "metadata": {},
   "source": [
    "## Build the Neural Network\n",
    "You'll build the components necessary to build a Sequence-to-Sequence model by implementing the following functions below:\n",
    "- `model_inputs`\n",
    "- `process_decoder_input`\n",
    "- `encoding_layer`\n",
    "- `decoding_layer_train`\n",
    "- `decoding_layer_infer`\n",
    "- `decoding_layer`\n",
    "- `seq2seq_model`\n",
    "\n",
    "### Input\n",
    "Implement the `model_inputs()` function to create TF Placeholders for the Neural Network. It should create the following placeholders:\n",
    "\n",
    "- Input text placeholder named \"input\" using the TF Placeholder name parameter with rank 2.\n",
    "- Targets placeholder with rank 2.\n",
    "- Learning rate placeholder with rank 0.\n",
    "- Keep probability placeholder named \"keep_prob\" using the TF Placeholder name parameter with rank 0.\n",
    "- Target sequence length placeholder named \"target_sequence_length\" with rank 1\n",
    "- Max target sequence length tensor named \"max_target_len\" getting its value from applying tf.reduce_max on the target_sequence_length placeholder. Rank 0.\n",
    "- Source sequence length placeholder named \"source_sequence_length\" with rank 1\n",
    "\n",
    "Return the placeholders in the following the tuple (input, targets, learning rate, keep probability, target sequence length, max target sequence length, source sequence length)"
   ]
  },
  {
   "cell_type": "code",
   "execution_count": 7,
   "metadata": {},
   "outputs": [
    {
     "name": "stdout",
     "output_type": "stream",
     "text": [
      "Tests Passed\n"
     ]
    }
   ],
   "source": [
    "def model_inputs():\n",
    "    \"\"\"\n",
    "    Create TF Placeholders for input, targets, learning rate, and lengths of source and target sequences.\n",
    "    :return: Tuple (input, targets, learning rate, keep probability, target sequence length,\n",
    "    max target sequence length, source sequence length)\n",
    "    \"\"\"\n",
    "    # TODO: Implement Function\n",
    "    inputs = tf.placeholder(tf.int32, [None, None], name='input')\n",
    "    targets = tf.placeholder(tf.int32, [None, None], name='targets')\n",
    "    learning_rate = tf.placeholder(tf.float32, name='learning_rate')\n",
    "    keep_probability = tf.placeholder(tf.float32, name='keep_prob')\n",
    "    target_sequence_length = tf.placeholder(tf.int32, (None,), name='target_sequence_length')\n",
    "    max_target_sequence_length = tf.reduce_max(target_sequence_length, name='max_target_len')\n",
    "    source_sequence_length = tf.placeholder(tf.int32, (None,), name='source_sequence_length')\n",
    "    \n",
    "    return inputs, targets, learning_rate, keep_probability, target_sequence_length, max_target_sequence_length, source_sequence_length\n",
    "\n",
    "\"\"\"\n",
    "DON'T MODIFY ANYTHING IN THIS CELL THAT IS BELOW THIS LINE\n",
    "\"\"\"\n",
    "tests.test_model_inputs(model_inputs)"
   ]
  },
  {
   "cell_type": "markdown",
   "metadata": {},
   "source": [
    "### Process Decoder Input\n",
    "Implement `process_decoder_input` by removing the last word id from each batch in `target_data` and concat the GO ID to the begining of each batch."
   ]
  },
  {
   "cell_type": "code",
   "execution_count": 8,
   "metadata": {},
   "outputs": [
    {
     "name": "stdout",
     "output_type": "stream",
     "text": [
      "Tests Passed\n"
     ]
    }
   ],
   "source": [
    "def process_decoder_input(target_data, target_vocab_to_int, batch_size):\n",
    "    \"\"\"\n",
    "    Preprocess target data for encoding\n",
    "    :param target_data: Target Placehoder\n",
    "    :param target_vocab_to_int: Dictionary to go from the target words to an id\n",
    "    :param batch_size: Batch Size\n",
    "    :return: Preprocessed target data\n",
    "    \"\"\"\n",
    "    # TODO: Implement Function\n",
    "    ending = tf.strided_slice(target_data, [0, 0], [batch_size, -1], [1, 1])\n",
    "    dec_input = tf.concat([tf.fill([batch_size, 1], target_vocab_to_int['<GO>']), ending], 1)\n",
    "    return dec_input\n",
    "\n",
    "\"\"\"\n",
    "DON'T MODIFY ANYTHING IN THIS CELL THAT IS BELOW THIS LINE\n",
    "\"\"\"\n",
    "tests.test_process_encoding_input(process_decoder_input)"
   ]
  },
  {
   "cell_type": "markdown",
   "metadata": {},
   "source": [
    "### Encoding\n",
    "Implement `encoding_layer()` to create a Encoder RNN layer:\n",
    " * Embed the encoder input using [`tf.contrib.layers.embed_sequence`](https://www.tensorflow.org/api_docs/python/tf/contrib/layers/embed_sequence)\n",
    " * Construct a [stacked](https://github.com/tensorflow/tensorflow/blob/6947f65a374ebf29e74bb71e36fd82760056d82c/tensorflow/docs_src/tutorials/recurrent.md#stacking-multiple-lstms) [`tf.contrib.rnn.LSTMCell`](https://www.tensorflow.org/api_docs/python/tf/contrib/rnn/LSTMCell) wrapped in a [`tf.contrib.rnn.DropoutWrapper`](https://www.tensorflow.org/api_docs/python/tf/contrib/rnn/DropoutWrapper)\n",
    " * Pass cell and embedded input to [`tf.nn.dynamic_rnn()`](https://www.tensorflow.org/api_docs/python/tf/nn/dynamic_rnn)"
   ]
  },
  {
   "cell_type": "code",
   "execution_count": 9,
   "metadata": {
    "scrolled": false
   },
   "outputs": [
    {
     "name": "stdout",
     "output_type": "stream",
     "text": [
      "Tests Passed\n"
     ]
    }
   ],
   "source": [
    "from imp import reload\n",
    "reload(tests)\n",
    "\n",
    "def encoding_layer(rnn_inputs, rnn_size, num_layers, keep_prob, \n",
    "                   source_sequence_length, source_vocab_size, \n",
    "                   encoding_embedding_size):\n",
    "    \"\"\"\n",
    "    Create encoding layer\n",
    "    :param rnn_inputs: Inputs for the RNN\n",
    "    :param rnn_size: RNN Size\n",
    "    :param num_layers: Number of layers\n",
    "    :param keep_prob: Dropout keep probability\n",
    "    :param source_sequence_length: a list of the lengths of each sequence in the batch\n",
    "    :param source_vocab_size: vocabulary size of source data\n",
    "    :param encoding_embedding_size: embedding size of source data\n",
    "    :return: tuple (RNN output, RNN state)\n",
    "    \"\"\"\n",
    "    # TODO: Implement Function\n",
    "    enc_embed_input = tf.contrib.layers.embed_sequence(rnn_inputs, source_vocab_size, encoding_embedding_size)\n",
    "    def make_cell(rnn_size,keep_prob):\n",
    "        basic_cell = tf.contrib.rnn.LSTMCell(rnn_size, initializer=tf.random_uniform_initializer(-0.1, 0.1, seed=2))\n",
    "        drop = tf.contrib.rnn.DropoutWrapper(basic_cell, output_keep_prob=keep_prob)\n",
    "        return drop\n",
    "    enc_cell = tf.contrib.rnn.MultiRNNCell([make_cell(rnn_size,keep_prob) for _ in range(num_layers)])\n",
    "    enc_output, enc_state = tf.nn.dynamic_rnn(enc_cell, enc_embed_input, \n",
    "                                              sequence_length=source_sequence_length, dtype=tf.float32)\n",
    "    return enc_output, enc_state\n",
    "\n",
    "\"\"\"\n",
    "DON'T MODIFY ANYTHING IN THIS CELL THAT IS BELOW THIS LINE\n",
    "\"\"\"\n",
    "tests.test_encoding_layer(encoding_layer)"
   ]
  },
  {
   "cell_type": "markdown",
   "metadata": {},
   "source": [
    "### Decoding - Training\n",
    "Create a training decoding layer:\n",
    "* Create a [`tf.contrib.seq2seq.TrainingHelper`](https://www.tensorflow.org/api_docs/python/tf/contrib/seq2seq/TrainingHelper) \n",
    "* Create a [`tf.contrib.seq2seq.BasicDecoder`](https://www.tensorflow.org/api_docs/python/tf/contrib/seq2seq/BasicDecoder)\n",
    "* Obtain the decoder outputs from [`tf.contrib.seq2seq.dynamic_decode`](https://www.tensorflow.org/api_docs/python/tf/contrib/seq2seq/dynamic_decode)"
   ]
  },
  {
   "cell_type": "code",
   "execution_count": 10,
   "metadata": {},
   "outputs": [
    {
     "name": "stdout",
     "output_type": "stream",
     "text": [
      "Tests Passed\n"
     ]
    }
   ],
   "source": [
    "\n",
    "def decoding_layer_train(encoder_state, dec_cell, dec_embed_input, \n",
    "                         target_sequence_length, max_summary_length, \n",
    "                         output_layer, keep_prob):\n",
    "    \"\"\"\n",
    "    Create a decoding layer for training\n",
    "    :param encoder_state: Encoder State\n",
    "    :param dec_cell: Decoder RNN Cell\n",
    "    :param dec_embed_input: Decoder embedded input\n",
    "    :param target_sequence_length: The lengths of each sequence in the target batch\n",
    "    :param max_summary_length: The length of the longest sequence in the batch\n",
    "    :param output_layer: Function to apply the output layer\n",
    "    :param keep_prob: Dropout keep probability\n",
    "    :return: BasicDecoderOutput containing training logits and sample_id\n",
    "    \"\"\"\n",
    "    # TODO: Implement Function\n",
    "    training_helper = tf.contrib.seq2seq.TrainingHelper(inputs=dec_embed_input,\n",
    "                                                            sequence_length=target_sequence_length,\n",
    "                                                            time_major=False)\n",
    "    training_decoder = tf.contrib.seq2seq.BasicDecoder(dec_cell,\n",
    "                                                           training_helper,\n",
    "                                                           encoder_state,\n",
    "                                                           output_layer) \n",
    "    training_decoder_output, _ = tf.contrib.seq2seq.dynamic_decode(training_decoder,\n",
    "                                                                       impute_finished=True,\n",
    "                                                                       maximum_iterations=max_summary_length)\n",
    "    return training_decoder_output\n",
    "\n",
    "\n",
    "\n",
    "\"\"\"\n",
    "DON'T MODIFY ANYTHING IN THIS CELL THAT IS BELOW THIS LINE\n",
    "\"\"\"\n",
    "tests.test_decoding_layer_train(decoding_layer_train)"
   ]
  },
  {
   "cell_type": "markdown",
   "metadata": {},
   "source": [
    "### Decoding - Inference\n",
    "Create inference decoder:\n",
    "* Create a [`tf.contrib.seq2seq.GreedyEmbeddingHelper`](https://www.tensorflow.org/api_docs/python/tf/contrib/seq2seq/GreedyEmbeddingHelper)\n",
    "* Create a [`tf.contrib.seq2seq.BasicDecoder`](https://www.tensorflow.org/api_docs/python/tf/contrib/seq2seq/BasicDecoder)\n",
    "* Obtain the decoder outputs from [`tf.contrib.seq2seq.dynamic_decode`](https://www.tensorflow.org/api_docs/python/tf/contrib/seq2seq/dynamic_decode)"
   ]
  },
  {
   "cell_type": "code",
   "execution_count": 11,
   "metadata": {
    "scrolled": true
   },
   "outputs": [
    {
     "name": "stdout",
     "output_type": "stream",
     "text": [
      "Tests Passed\n"
     ]
    }
   ],
   "source": [
    "def decoding_layer_infer(encoder_state, dec_cell, dec_embeddings, start_of_sequence_id,\n",
    "                         end_of_sequence_id, max_target_sequence_length,\n",
    "                         vocab_size, output_layer, batch_size, keep_prob):\n",
    "    \"\"\"\n",
    "    Create a decoding layer for inference\n",
    "    :param encoder_state: Encoder state\n",
    "    :param dec_cell: Decoder RNN Cell\n",
    "    :param dec_embeddings: Decoder embeddings\n",
    "    :param start_of_sequence_id: GO ID\n",
    "    :param end_of_sequence_id: EOS Id\n",
    "    :param max_target_sequence_length: Maximum length of target sequences\n",
    "    :param vocab_size: Size of decoder/target vocabulary\n",
    "    :param decoding_scope: TenorFlow Variable Scope for decoding\n",
    "    :param output_layer: Function to apply the output layer\n",
    "    :param batch_size: Batch size\n",
    "    :param keep_prob: Dropout keep probability\n",
    "    :return: BasicDecoderOutput containing inference logits and sample_id\n",
    "    \"\"\"\n",
    "    # TODO: Implement Function\n",
    "    start_tokens = tf.tile(tf.constant([start_of_sequence_id], dtype=tf.int32), [batch_size], name='start_tokens')\n",
    "    inference_helper = tf.contrib.seq2seq.GreedyEmbeddingHelper(dec_embeddings,\n",
    "                                                                start_tokens,\n",
    "                                                                end_of_sequence_id)\n",
    "    inference_decoder = tf.contrib.seq2seq.BasicDecoder(dec_cell,\n",
    "                                                        inference_helper,\n",
    "                                                        encoder_state,\n",
    "                                                        output_layer)\n",
    "    inference_decoder_output, _ = tf.contrib.seq2seq.dynamic_decode(inference_decoder,\n",
    "                                                            impute_finished=True,\n",
    "                                                            maximum_iterations=max_target_sequence_length)\n",
    "    return inference_decoder_output\n",
    "\n",
    "\n",
    "\n",
    "\"\"\"\n",
    "DON'T MODIFY ANYTHING IN THIS CELL THAT IS BELOW THIS LINE\n",
    "\"\"\"\n",
    "tests.test_decoding_layer_infer(decoding_layer_infer)"
   ]
  },
  {
   "cell_type": "markdown",
   "metadata": {},
   "source": [
    "### Build the Decoding Layer\n",
    "Implement `decoding_layer()` to create a Decoder RNN layer.\n",
    "\n",
    "* Embed the target sequences\n",
    "* Construct the decoder LSTM cell (just like you constructed the encoder cell above)\n",
    "* Create an output layer to map the outputs of the decoder to the elements of our vocabulary\n",
    "* Use the your `decoding_layer_train(encoder_state, dec_cell, dec_embed_input, target_sequence_length, max_target_sequence_length, output_layer, keep_prob)` function to get the training logits.\n",
    "* Use your `decoding_layer_infer(encoder_state, dec_cell, dec_embeddings, start_of_sequence_id, end_of_sequence_id, max_target_sequence_length, vocab_size, output_layer, batch_size, keep_prob)` function to get the inference logits.\n",
    "\n",
    "Note: You'll need to use [tf.variable_scope](https://www.tensorflow.org/api_docs/python/tf/variable_scope) to share variables between training and inference."
   ]
  },
  {
   "cell_type": "code",
   "execution_count": 17,
   "metadata": {},
   "outputs": [
    {
     "name": "stdout",
     "output_type": "stream",
     "text": [
      "Tests Passed\n"
     ]
    }
   ],
   "source": [
    "def decoding_layer(dec_input, encoder_state,\n",
    "                   target_sequence_length, max_target_sequence_length,\n",
    "                   rnn_size,\n",
    "                   num_layers, target_vocab_to_int, target_vocab_size,\n",
    "                   batch_size, keep_prob, decoding_embedding_size):\n",
    "    \"\"\"\n",
    "    Create decoding layer\n",
    "    :param dec_input: Decoder input\n",
    "    :param encoder_state: Encoder state\n",
    "    :param target_sequence_length: The lengths of each sequence in the target batch\n",
    "    :param max_target_sequence_length: Maximum length of target sequences\n",
    "    :param rnn_size: RNN Size\n",
    "    :param num_layers: Number of layers\n",
    "    :param target_vocab_to_int: Dictionary to go from the target words to an id\n",
    "    :param target_vocab_size: Size of target vocabulary\n",
    "    :param batch_size: The size of the batch\n",
    "    :param keep_prob: Dropout keep probability\n",
    "    :param decoding_embedding_size: Decoding embedding size\n",
    "    :return: Tuple of (Training BasicDecoderOutput, Inference BasicDecoderOutput)\n",
    "    \"\"\"\n",
    "    # TODO: Implement Function\n",
    "    dec_embeddings = tf.Variable(tf.random_uniform([target_vocab_size, decoding_embedding_size]))\n",
    "    dec_embed_input = tf.nn.embedding_lookup(dec_embeddings, dec_input)\n",
    "    def make_cell(rnn_size,keep_prob):\n",
    "        basic_cell = tf.contrib.rnn.LSTMCell(rnn_size, initializer=tf.random_uniform_initializer(-0.1, 0.1, seed=2))\n",
    "        drop = tf.contrib.rnn.DropoutWrapper(basic_cell, output_keep_prob=keep_prob)\n",
    "        return drop\n",
    "    dec_cell = tf.contrib.rnn.MultiRNNCell([make_cell(rnn_size,keep_prob) for _ in range(num_layers)])\n",
    "    output_layer = Dense(target_vocab_size,\n",
    "                         kernel_initializer = tf.truncated_normal_initializer(mean = 0.0, stddev=0.1))\n",
    "    with tf.variable_scope(\"decode\"):\n",
    "        training_decoder_output = decoding_layer_train(encoder_state, dec_cell, dec_embed_input, \n",
    "                             target_sequence_length, max_target_sequence_length, \n",
    "                             output_layer, keep_prob)\n",
    "    start_of_sequence_id = target_vocab_to_int['<GO>']\n",
    "    end_of_sequence_id = target_vocab_to_int['<EOS>']\n",
    "    vocab_size = target_vocab_size\n",
    "    with tf.variable_scope(\"decode\", reuse=True):\n",
    "        inference_decoder_output = decoding_layer_infer(encoder_state, dec_cell, dec_embeddings, start_of_sequence_id,\n",
    "                             end_of_sequence_id, max_target_sequence_length,\n",
    "                             vocab_size, output_layer, batch_size, keep_prob)\n",
    "    \n",
    "    return training_decoder_output, inference_decoder_output\n",
    "\n",
    "\n",
    "\n",
    "\"\"\"\n",
    "DON'T MODIFY ANYTHING IN THIS CELL THAT IS BELOW THIS LINE\n",
    "\"\"\"\n",
    "tests.test_decoding_layer(decoding_layer)"
   ]
  },
  {
   "cell_type": "markdown",
   "metadata": {},
   "source": [
    "### Build the Neural Network\n",
    "Apply the functions you implemented above to:\n",
    "\n",
    "- Encode the input using your `encoding_layer(rnn_inputs, rnn_size, num_layers, keep_prob,  source_sequence_length, source_vocab_size, encoding_embedding_size)`.\n",
    "- Process target data using your `process_decoder_input(target_data, target_vocab_to_int, batch_size)` function.\n",
    "- Decode the encoded input using your `decoding_layer(dec_input, enc_state, target_sequence_length, max_target_sentence_length, rnn_size, num_layers, target_vocab_to_int, target_vocab_size, batch_size, keep_prob, dec_embedding_size)` function."
   ]
  },
  {
   "cell_type": "code",
   "execution_count": 19,
   "metadata": {},
   "outputs": [
    {
     "name": "stdout",
     "output_type": "stream",
     "text": [
      "Tests Passed\n"
     ]
    }
   ],
   "source": [
    "def seq2seq_model(input_data, target_data, keep_prob, batch_size,\n",
    "                  source_sequence_length, target_sequence_length,\n",
    "                  max_target_sentence_length,\n",
    "                  source_vocab_size, target_vocab_size,\n",
    "                  enc_embedding_size, dec_embedding_size,\n",
    "                  rnn_size, num_layers, target_vocab_to_int):\n",
    "    \"\"\"\n",
    "    Build the Sequence-to-Sequence part of the neural network\n",
    "    :param input_data: Input placeholder\n",
    "    :param target_data: Target placeholder\n",
    "    :param keep_prob: Dropout keep probability placeholder\n",
    "    :param batch_size: Batch Size\n",
    "    :param source_sequence_length: Sequence Lengths of source sequences in the batch\n",
    "    :param target_sequence_length: Sequence Lengths of target sequences in the batch\n",
    "    :param source_vocab_size: Source vocabulary size\n",
    "    :param target_vocab_size: Target vocabulary size\n",
    "    :param enc_embedding_size: Decoder embedding size\n",
    "    :param dec_embedding_size: Encoder embedding size\n",
    "    :param rnn_size: RNN Size\n",
    "    :param num_layers: Number of layers\n",
    "    :param target_vocab_to_int: Dictionary to go from the target words to an id\n",
    "    :return: Tuple of (Training BasicDecoderOutput, Inference BasicDecoderOutput)\n",
    "    \"\"\"\n",
    "    # TODO: Implement Function\n",
    "    enc_output, enc_state = encoding_layer(input_data, rnn_size, num_layers, keep_prob, \n",
    "                                           source_sequence_length, source_vocab_size, \n",
    "                                           enc_embedding_size)\n",
    "    dec_input = process_decoder_input(target_data, target_vocab_to_int, batch_size)\n",
    "    training_decoder_output, inference_decoder_output = decoding_layer(dec_input, enc_state,\n",
    "                                                               target_sequence_length, max_target_sentence_length,\n",
    "                                                               rnn_size,\n",
    "                                                               num_layers, target_vocab_to_int, target_vocab_size,\n",
    "                                                               batch_size, keep_prob, dec_embedding_size)\n",
    "    return training_decoder_output, inference_decoder_output\n",
    "\n",
    "\n",
    "\"\"\"\n",
    "DON'T MODIFY ANYTHING IN THIS CELL THAT IS BELOW THIS LINE\n",
    "\"\"\"\n",
    "tests.test_seq2seq_model(seq2seq_model)"
   ]
  },
  {
   "cell_type": "markdown",
   "metadata": {},
   "source": [
    "## Neural Network Training\n",
    "### Hyperparameters\n",
    "Tune the following parameters:\n",
    "\n",
    "- Set `epochs` to the number of epochs.\n",
    "- Set `batch_size` to the batch size.\n",
    "- Set `rnn_size` to the size of the RNNs.\n",
    "- Set `num_layers` to the number of layers.\n",
    "- Set `encoding_embedding_size` to the size of the embedding for the encoder.\n",
    "- Set `decoding_embedding_size` to the size of the embedding for the decoder.\n",
    "- Set `learning_rate` to the learning rate.\n",
    "- Set `keep_probability` to the Dropout keep probability\n",
    "- Set `display_step` to state how many steps between each debug output statement"
   ]
  },
  {
   "cell_type": "code",
   "execution_count": 20,
   "metadata": {
    "collapsed": true
   },
   "outputs": [],
   "source": [
    "# Number of Epochs\n",
    "epochs = 20\n",
    "# Batch Size\n",
    "batch_size = 128\n",
    "# RNN Size\n",
    "rnn_size = 64\n",
    "# Number of Layers\n",
    "num_layers = 2\n",
    "# Embedding Size\n",
    "encoding_embedding_size = 256\n",
    "decoding_embedding_size = 256\n",
    "# Learning Rate\n",
    "learning_rate = 0.01\n",
    "# Dropout Keep Probability\n",
    "keep_probability = 0.5\n",
    "display_step = 50"
   ]
  },
  {
   "cell_type": "markdown",
   "metadata": {},
   "source": [
    "### Build the Graph\n",
    "Build the graph using the neural network you implemented."
   ]
  },
  {
   "cell_type": "code",
   "execution_count": 21,
   "metadata": {
    "collapsed": true
   },
   "outputs": [],
   "source": [
    "\"\"\"\n",
    "DON'T MODIFY ANYTHING IN THIS CELL\n",
    "\"\"\"\n",
    "save_path = 'checkpoints/dev'\n",
    "(source_int_text, target_int_text), (source_vocab_to_int, target_vocab_to_int), _ = helper.load_preprocess()\n",
    "max_target_sentence_length = max([len(sentence) for sentence in source_int_text])\n",
    "\n",
    "train_graph = tf.Graph()\n",
    "with train_graph.as_default():\n",
    "    input_data, targets, lr, keep_prob, target_sequence_length, max_target_sequence_length, source_sequence_length = model_inputs()\n",
    "\n",
    "    #sequence_length = tf.placeholder_with_default(max_target_sentence_length, None, name='sequence_length')\n",
    "    input_shape = tf.shape(input_data)\n",
    "\n",
    "    train_logits, inference_logits = seq2seq_model(tf.reverse(input_data, [-1]),\n",
    "                                                   targets,\n",
    "                                                   keep_prob,\n",
    "                                                   batch_size,\n",
    "                                                   source_sequence_length,\n",
    "                                                   target_sequence_length,\n",
    "                                                   max_target_sequence_length,\n",
    "                                                   len(source_vocab_to_int),\n",
    "                                                   len(target_vocab_to_int),\n",
    "                                                   encoding_embedding_size,\n",
    "                                                   decoding_embedding_size,\n",
    "                                                   rnn_size,\n",
    "                                                   num_layers,\n",
    "                                                   target_vocab_to_int)\n",
    "\n",
    "\n",
    "    training_logits = tf.identity(train_logits.rnn_output, name='logits')\n",
    "    inference_logits = tf.identity(inference_logits.sample_id, name='predictions')\n",
    "\n",
    "    masks = tf.sequence_mask(target_sequence_length, max_target_sequence_length, dtype=tf.float32, name='masks')\n",
    "\n",
    "    with tf.name_scope(\"optimization\"):\n",
    "        # Loss function\n",
    "        cost = tf.contrib.seq2seq.sequence_loss(\n",
    "            training_logits,\n",
    "            targets,\n",
    "            masks)\n",
    "\n",
    "        # Optimizer\n",
    "        optimizer = tf.train.AdamOptimizer(lr)\n",
    "\n",
    "        # Gradient Clipping\n",
    "        gradients = optimizer.compute_gradients(cost)\n",
    "        capped_gradients = [(tf.clip_by_value(grad, -1., 1.), var) for grad, var in gradients if grad is not None]\n",
    "        train_op = optimizer.apply_gradients(capped_gradients)\n"
   ]
  },
  {
   "cell_type": "markdown",
   "metadata": {},
   "source": [
    "Batch and pad the source and target sequences"
   ]
  },
  {
   "cell_type": "code",
   "execution_count": 22,
   "metadata": {
    "collapsed": true
   },
   "outputs": [],
   "source": [
    "\"\"\"\n",
    "DON'T MODIFY ANYTHING IN THIS CELL\n",
    "\"\"\"\n",
    "def pad_sentence_batch(sentence_batch, pad_int):\n",
    "    \"\"\"Pad sentences with <PAD> so that each sentence of a batch has the same length\"\"\"\n",
    "    max_sentence = max([len(sentence) for sentence in sentence_batch])\n",
    "    return [sentence + [pad_int] * (max_sentence - len(sentence)) for sentence in sentence_batch]\n",
    "\n",
    "\n",
    "def get_batches(sources, targets, batch_size, source_pad_int, target_pad_int):\n",
    "    \"\"\"Batch targets, sources, and the lengths of their sentences together\"\"\"\n",
    "    for batch_i in range(0, len(sources)//batch_size):\n",
    "        start_i = batch_i * batch_size\n",
    "\n",
    "        # Slice the right amount for the batch\n",
    "        sources_batch = sources[start_i:start_i + batch_size]\n",
    "        targets_batch = targets[start_i:start_i + batch_size]\n",
    "\n",
    "        # Pad\n",
    "        pad_sources_batch = np.array(pad_sentence_batch(sources_batch, source_pad_int))\n",
    "        pad_targets_batch = np.array(pad_sentence_batch(targets_batch, target_pad_int))\n",
    "\n",
    "        # Need the lengths for the _lengths parameters\n",
    "        pad_targets_lengths = []\n",
    "        for target in pad_targets_batch:\n",
    "            pad_targets_lengths.append(len(target))\n",
    "\n",
    "        pad_source_lengths = []\n",
    "        for source in pad_sources_batch:\n",
    "            pad_source_lengths.append(len(source))\n",
    "\n",
    "        yield pad_sources_batch, pad_targets_batch, pad_source_lengths, pad_targets_lengths\n"
   ]
  },
  {
   "cell_type": "markdown",
   "metadata": {},
   "source": [
    "### Train\n",
    "Train the neural network on the preprocessed data. If you have a hard time getting a good loss, check the forms to see if anyone is having the same problem."
   ]
  },
  {
   "cell_type": "code",
   "execution_count": null,
   "metadata": {
    "scrolled": true
   },
   "outputs": [
    {
     "name": "stdout",
     "output_type": "stream",
     "text": [
      "Epoch   0 Batch   50/1077 - Train Accuracy: 0.4105, Validation Accuracy: 0.4776, Loss: 2.6167\n",
      "Epoch   0 Batch  100/1077 - Train Accuracy: 0.4688, Validation Accuracy: 0.5071, Loss: 1.8841\n",
      "Epoch   0 Batch  150/1077 - Train Accuracy: 0.5149, Validation Accuracy: 0.5234, Loss: 1.3770\n",
      "Epoch   0 Batch  200/1077 - Train Accuracy: 0.4852, Validation Accuracy: 0.5195, Loss: 1.2653\n",
      "Epoch   0 Batch  250/1077 - Train Accuracy: 0.5071, Validation Accuracy: 0.5185, Loss: 1.0504\n",
      "Epoch   0 Batch  300/1077 - Train Accuracy: 0.5350, Validation Accuracy: 0.5554, Loss: 1.1100\n",
      "Epoch   0 Batch  350/1077 - Train Accuracy: 0.5703, Validation Accuracy: 0.5710, Loss: 1.0715\n",
      "Epoch   0 Batch  400/1077 - Train Accuracy: 0.6113, Validation Accuracy: 0.6179, Loss: 0.9386\n",
      "Epoch   0 Batch  450/1077 - Train Accuracy: 0.6297, Validation Accuracy: 0.5795, Loss: 0.8542\n",
      "Epoch   0 Batch  500/1077 - Train Accuracy: 0.6316, Validation Accuracy: 0.5845, Loss: 0.8107\n",
      "Epoch   0 Batch  550/1077 - Train Accuracy: 0.6059, Validation Accuracy: 0.6104, Loss: 0.8187\n",
      "Epoch   0 Batch  600/1077 - Train Accuracy: 0.6458, Validation Accuracy: 0.5941, Loss: 0.7367\n",
      "Epoch   0 Batch  650/1077 - Train Accuracy: 0.6094, Validation Accuracy: 0.5998, Loss: 0.7630\n",
      "Epoch   0 Batch  700/1077 - Train Accuracy: 0.6199, Validation Accuracy: 0.5966, Loss: 0.6927\n",
      "Epoch   0 Batch  750/1077 - Train Accuracy: 0.6492, Validation Accuracy: 0.6119, Loss: 0.6692\n",
      "Epoch   0 Batch  800/1077 - Train Accuracy: 0.6473, Validation Accuracy: 0.6282, Loss: 0.6919\n",
      "Epoch   0 Batch  850/1077 - Train Accuracy: 0.6295, Validation Accuracy: 0.6268, Loss: 0.6934\n",
      "Epoch   0 Batch  900/1077 - Train Accuracy: 0.6582, Validation Accuracy: 0.6424, Loss: 0.6484\n",
      "Epoch   0 Batch  950/1077 - Train Accuracy: 0.6455, Validation Accuracy: 0.6364, Loss: 0.6301\n",
      "Epoch   0 Batch 1000/1077 - Train Accuracy: 0.6879, Validation Accuracy: 0.6278, Loss: 0.5735\n",
      "Epoch   0 Batch 1050/1077 - Train Accuracy: 0.5961, Validation Accuracy: 0.6250, Loss: 0.6234\n",
      "Epoch   1 Batch   50/1077 - Train Accuracy: 0.6844, Validation Accuracy: 0.6474, Loss: 0.5923\n",
      "Epoch   1 Batch  100/1077 - Train Accuracy: 0.6848, Validation Accuracy: 0.6694, Loss: 0.6199\n",
      "Epoch   1 Batch  150/1077 - Train Accuracy: 0.7236, Validation Accuracy: 0.6584, Loss: 0.5413\n",
      "Epoch   1 Batch  200/1077 - Train Accuracy: 0.6797, Validation Accuracy: 0.6676, Loss: 0.5762\n",
      "Epoch   1 Batch  250/1077 - Train Accuracy: 0.6697, Validation Accuracy: 0.6403, Loss: 0.5352\n",
      "Epoch   1 Batch  300/1077 - Train Accuracy: 0.6986, Validation Accuracy: 0.6577, Loss: 0.5678\n",
      "Epoch   1 Batch  350/1077 - Train Accuracy: 0.6605, Validation Accuracy: 0.6523, Loss: 0.5688\n",
      "Epoch   1 Batch  400/1077 - Train Accuracy: 0.6953, Validation Accuracy: 0.6726, Loss: 0.5767\n",
      "Epoch   1 Batch  450/1077 - Train Accuracy: 0.7184, Validation Accuracy: 0.6641, Loss: 0.5260\n",
      "Epoch   1 Batch  500/1077 - Train Accuracy: 0.7070, Validation Accuracy: 0.6573, Loss: 0.5290\n",
      "Epoch   1 Batch  550/1077 - Train Accuracy: 0.6887, Validation Accuracy: 0.6914, Loss: 0.5439\n",
      "Epoch   1 Batch  600/1077 - Train Accuracy: 0.7016, Validation Accuracy: 0.6594, Loss: 0.5099\n",
      "Epoch   1 Batch  650/1077 - Train Accuracy: 0.6957, Validation Accuracy: 0.6619, Loss: 0.5591\n",
      "Epoch   1 Batch  700/1077 - Train Accuracy: 0.7066, Validation Accuracy: 0.6804, Loss: 0.5329\n",
      "Epoch   1 Batch  750/1077 - Train Accuracy: 0.7090, Validation Accuracy: 0.6825, Loss: 0.5051\n",
      "Epoch   1 Batch  800/1077 - Train Accuracy: 0.7094, Validation Accuracy: 0.6577, Loss: 0.5101\n",
      "Epoch   1 Batch  850/1077 - Train Accuracy: 0.6879, Validation Accuracy: 0.6506, Loss: 0.5400\n",
      "Epoch   1 Batch  900/1077 - Train Accuracy: 0.7219, Validation Accuracy: 0.6818, Loss: 0.5178\n",
      "Epoch   1 Batch  950/1077 - Train Accuracy: 0.6752, Validation Accuracy: 0.6896, Loss: 0.4964\n",
      "Epoch   1 Batch 1000/1077 - Train Accuracy: 0.7388, Validation Accuracy: 0.6847, Loss: 0.4742\n",
      "Epoch   1 Batch 1050/1077 - Train Accuracy: 0.6660, Validation Accuracy: 0.6790, Loss: 0.4967\n",
      "Epoch   2 Batch   50/1077 - Train Accuracy: 0.7105, Validation Accuracy: 0.6754, Loss: 0.4824\n",
      "Epoch   2 Batch  100/1077 - Train Accuracy: 0.7227, Validation Accuracy: 0.6808, Loss: 0.4898\n",
      "Epoch   2 Batch  150/1077 - Train Accuracy: 0.7411, Validation Accuracy: 0.6861, Loss: 0.4635\n",
      "Epoch   2 Batch  200/1077 - Train Accuracy: 0.7117, Validation Accuracy: 0.6932, Loss: 0.4912\n",
      "Epoch   2 Batch  250/1077 - Train Accuracy: 0.7287, Validation Accuracy: 0.6896, Loss: 0.4546\n",
      "Epoch   2 Batch  300/1077 - Train Accuracy: 0.7270, Validation Accuracy: 0.7042, Loss: 0.4767\n",
      "Epoch   2 Batch  350/1077 - Train Accuracy: 0.6664, Validation Accuracy: 0.6893, Loss: 0.4889\n",
      "Epoch   2 Batch  400/1077 - Train Accuracy: 0.7113, Validation Accuracy: 0.7205, Loss: 0.4991\n",
      "Epoch   2 Batch  450/1077 - Train Accuracy: 0.7027, Validation Accuracy: 0.6907, Loss: 0.4457\n",
      "Epoch   2 Batch  500/1077 - Train Accuracy: 0.7289, Validation Accuracy: 0.7010, Loss: 0.4501\n",
      "Epoch   2 Batch  550/1077 - Train Accuracy: 0.7219, Validation Accuracy: 0.7134, Loss: 0.4707\n",
      "Epoch   2 Batch  600/1077 - Train Accuracy: 0.7500, Validation Accuracy: 0.6740, Loss: 0.4425\n",
      "Epoch   2 Batch  650/1077 - Train Accuracy: 0.7203, Validation Accuracy: 0.6861, Loss: 0.4569\n",
      "Epoch   2 Batch  700/1077 - Train Accuracy: 0.7355, Validation Accuracy: 0.7170, Loss: 0.4454\n",
      "Epoch   2 Batch  750/1077 - Train Accuracy: 0.7285, Validation Accuracy: 0.7170, Loss: 0.4343\n",
      "Epoch   2 Batch  800/1077 - Train Accuracy: 0.7266, Validation Accuracy: 0.7024, Loss: 0.4475\n",
      "Epoch   2 Batch  850/1077 - Train Accuracy: 0.7180, Validation Accuracy: 0.6939, Loss: 0.4639\n",
      "Epoch   2 Batch  900/1077 - Train Accuracy: 0.7328, Validation Accuracy: 0.7017, Loss: 0.4588\n",
      "Epoch   2 Batch  950/1077 - Train Accuracy: 0.7202, Validation Accuracy: 0.6903, Loss: 0.4353\n",
      "Epoch   2 Batch 1000/1077 - Train Accuracy: 0.7753, Validation Accuracy: 0.6935, Loss: 0.4198\n",
      "Epoch   2 Batch 1050/1077 - Train Accuracy: 0.6977, Validation Accuracy: 0.6939, Loss: 0.4210\n",
      "Epoch   3 Batch   50/1077 - Train Accuracy: 0.7191, Validation Accuracy: 0.6960, Loss: 0.4379\n",
      "Epoch   3 Batch  100/1077 - Train Accuracy: 0.7359, Validation Accuracy: 0.6942, Loss: 0.4347\n",
      "Epoch   3 Batch  150/1077 - Train Accuracy: 0.7619, Validation Accuracy: 0.6882, Loss: 0.4049\n",
      "Epoch   3 Batch  200/1077 - Train Accuracy: 0.7297, Validation Accuracy: 0.6985, Loss: 0.4335\n",
      "Epoch   3 Batch  250/1077 - Train Accuracy: 0.7344, Validation Accuracy: 0.7035, Loss: 0.3893\n",
      "Epoch   3 Batch  300/1077 - Train Accuracy: 0.7611, Validation Accuracy: 0.7063, Loss: 0.4221\n",
      "Epoch   3 Batch  350/1077 - Train Accuracy: 0.7063, Validation Accuracy: 0.7028, Loss: 0.4243\n",
      "Epoch   3 Batch  400/1077 - Train Accuracy: 0.7426, Validation Accuracy: 0.7219, Loss: 0.4431\n",
      "Epoch   3 Batch  450/1077 - Train Accuracy: 0.7414, Validation Accuracy: 0.7191, Loss: 0.4207\n",
      "Epoch   3 Batch  500/1077 - Train Accuracy: 0.7488, Validation Accuracy: 0.7163, Loss: 0.3916\n",
      "Epoch   3 Batch  550/1077 - Train Accuracy: 0.7340, Validation Accuracy: 0.7031, Loss: 0.4153\n",
      "Epoch   3 Batch  600/1077 - Train Accuracy: 0.7701, Validation Accuracy: 0.7362, Loss: 0.4047\n",
      "Epoch   3 Batch  650/1077 - Train Accuracy: 0.7230, Validation Accuracy: 0.7028, Loss: 0.4158\n",
      "Epoch   3 Batch  700/1077 - Train Accuracy: 0.7285, Validation Accuracy: 0.7074, Loss: 0.4024\n",
      "Epoch   3 Batch  750/1077 - Train Accuracy: 0.7387, Validation Accuracy: 0.6960, Loss: 0.4296\n",
      "Epoch   3 Batch  800/1077 - Train Accuracy: 0.7266, Validation Accuracy: 0.6850, Loss: 0.4111\n",
      "Epoch   3 Batch  850/1077 - Train Accuracy: 0.7221, Validation Accuracy: 0.6999, Loss: 0.4096\n",
      "Epoch   3 Batch  900/1077 - Train Accuracy: 0.7391, Validation Accuracy: 0.7248, Loss: 0.4309\n",
      "Epoch   3 Batch  950/1077 - Train Accuracy: 0.7139, Validation Accuracy: 0.7312, Loss: 0.3925\n",
      "Epoch   3 Batch 1000/1077 - Train Accuracy: 0.7515, Validation Accuracy: 0.6985, Loss: 0.3833\n",
      "Epoch   3 Batch 1050/1077 - Train Accuracy: 0.6805, Validation Accuracy: 0.7045, Loss: 0.3973\n",
      "Epoch   4 Batch   50/1077 - Train Accuracy: 0.7281, Validation Accuracy: 0.7013, Loss: 0.3988\n",
      "Epoch   4 Batch  100/1077 - Train Accuracy: 0.7215, Validation Accuracy: 0.7077, Loss: 0.4124\n",
      "Epoch   4 Batch  150/1077 - Train Accuracy: 0.7638, Validation Accuracy: 0.6946, Loss: 0.3813\n",
      "Epoch   4 Batch  200/1077 - Train Accuracy: 0.7363, Validation Accuracy: 0.7191, Loss: 0.4280\n"
     ]
    },
    {
     "name": "stdout",
     "output_type": "stream",
     "text": [
      "Epoch   4 Batch  250/1077 - Train Accuracy: 0.7191, Validation Accuracy: 0.6907, Loss: 0.3637\n",
      "Epoch   4 Batch  300/1077 - Train Accuracy: 0.7812, Validation Accuracy: 0.6989, Loss: 0.4125\n",
      "Epoch   4 Batch  350/1077 - Train Accuracy: 0.7258, Validation Accuracy: 0.7177, Loss: 0.4071\n",
      "Epoch   4 Batch  400/1077 - Train Accuracy: 0.7547, Validation Accuracy: 0.7372, Loss: 0.4048\n",
      "Epoch   4 Batch  450/1077 - Train Accuracy: 0.7211, Validation Accuracy: 0.6957, Loss: 0.3955\n",
      "Epoch   4 Batch  500/1077 - Train Accuracy: 0.7527, Validation Accuracy: 0.7070, Loss: 0.3737\n",
      "Epoch   4 Batch  550/1077 - Train Accuracy: 0.7641, Validation Accuracy: 0.7223, Loss: 0.3818\n",
      "Epoch   4 Batch  600/1077 - Train Accuracy: 0.7515, Validation Accuracy: 0.6950, Loss: 0.3855\n",
      "Epoch   4 Batch  650/1077 - Train Accuracy: 0.7219, Validation Accuracy: 0.7077, Loss: 0.4061\n",
      "Epoch   4 Batch  700/1077 - Train Accuracy: 0.7562, Validation Accuracy: 0.7102, Loss: 0.3967\n",
      "Epoch   4 Batch  750/1077 - Train Accuracy: 0.7594, Validation Accuracy: 0.7212, Loss: 0.3670\n",
      "Epoch   4 Batch  800/1077 - Train Accuracy: 0.7211, Validation Accuracy: 0.6957, Loss: 0.3855\n",
      "Epoch   4 Batch  850/1077 - Train Accuracy: 0.7277, Validation Accuracy: 0.6982, Loss: 0.3980\n",
      "Epoch   4 Batch  900/1077 - Train Accuracy: 0.7480, Validation Accuracy: 0.7173, Loss: 0.4144\n",
      "Epoch   4 Batch  950/1077 - Train Accuracy: 0.7068, Validation Accuracy: 0.7099, Loss: 0.3677\n",
      "Epoch   4 Batch 1000/1077 - Train Accuracy: 0.7660, Validation Accuracy: 0.6996, Loss: 0.3720\n",
      "Epoch   4 Batch 1050/1077 - Train Accuracy: 0.6941, Validation Accuracy: 0.6911, Loss: 0.3967\n",
      "Epoch   5 Batch   50/1077 - Train Accuracy: 0.7398, Validation Accuracy: 0.6896, Loss: 0.3825\n",
      "Epoch   5 Batch  100/1077 - Train Accuracy: 0.7371, Validation Accuracy: 0.7081, Loss: 0.3912\n",
      "Epoch   5 Batch  150/1077 - Train Accuracy: 0.7649, Validation Accuracy: 0.7344, Loss: 0.3609\n",
      "Epoch   5 Batch  200/1077 - Train Accuracy: 0.7492, Validation Accuracy: 0.7195, Loss: 0.3775\n",
      "Epoch   5 Batch  250/1077 - Train Accuracy: 0.7340, Validation Accuracy: 0.7092, Loss: 0.3459\n",
      "Epoch   5 Batch  300/1077 - Train Accuracy: 0.7747, Validation Accuracy: 0.7276, Loss: 0.3712\n",
      "Epoch   5 Batch  350/1077 - Train Accuracy: 0.7312, Validation Accuracy: 0.7056, Loss: 0.3887\n",
      "Epoch   5 Batch  400/1077 - Train Accuracy: 0.7547, Validation Accuracy: 0.7251, Loss: 0.4014\n",
      "Epoch   5 Batch  450/1077 - Train Accuracy: 0.7512, Validation Accuracy: 0.7053, Loss: 0.3894\n",
      "Epoch   5 Batch  500/1077 - Train Accuracy: 0.7715, Validation Accuracy: 0.7262, Loss: 0.3815\n",
      "Epoch   5 Batch  550/1077 - Train Accuracy: 0.7555, Validation Accuracy: 0.7294, Loss: 0.3731\n",
      "Epoch   5 Batch  600/1077 - Train Accuracy: 0.7682, Validation Accuracy: 0.7283, Loss: 0.3603\n",
      "Epoch   5 Batch  650/1077 - Train Accuracy: 0.7148, Validation Accuracy: 0.7209, Loss: 0.3948\n",
      "Epoch   5 Batch  700/1077 - Train Accuracy: 0.7270, Validation Accuracy: 0.7021, Loss: 0.3890\n",
      "Epoch   5 Batch  750/1077 - Train Accuracy: 0.7371, Validation Accuracy: 0.7013, Loss: 0.3708\n",
      "Epoch   5 Batch  800/1077 - Train Accuracy: 0.7273, Validation Accuracy: 0.6978, Loss: 0.4020\n",
      "Epoch   5 Batch  850/1077 - Train Accuracy: 0.7080, Validation Accuracy: 0.7074, Loss: 0.4090\n",
      "Epoch   5 Batch  900/1077 - Train Accuracy: 0.7457, Validation Accuracy: 0.7077, Loss: 0.4009\n",
      "Epoch   5 Batch  950/1077 - Train Accuracy: 0.7281, Validation Accuracy: 0.7227, Loss: 0.3884\n",
      "Epoch   5 Batch 1000/1077 - Train Accuracy: 0.7530, Validation Accuracy: 0.7198, Loss: 0.3564\n",
      "Epoch   5 Batch 1050/1077 - Train Accuracy: 0.7098, Validation Accuracy: 0.7202, Loss: 0.3876\n",
      "Epoch   6 Batch   50/1077 - Train Accuracy: 0.7363, Validation Accuracy: 0.7209, Loss: 0.3836\n",
      "Epoch   6 Batch  100/1077 - Train Accuracy: 0.7160, Validation Accuracy: 0.7358, Loss: 0.3753\n",
      "Epoch   6 Batch  150/1077 - Train Accuracy: 0.7712, Validation Accuracy: 0.7237, Loss: 0.3812\n",
      "Epoch   6 Batch  200/1077 - Train Accuracy: 0.7520, Validation Accuracy: 0.7269, Loss: 0.3629\n",
      "Epoch   6 Batch  250/1077 - Train Accuracy: 0.7422, Validation Accuracy: 0.7003, Loss: 0.3277\n",
      "Epoch   6 Batch  300/1077 - Train Accuracy: 0.7932, Validation Accuracy: 0.7397, Loss: 0.3705\n",
      "Epoch   6 Batch  350/1077 - Train Accuracy: 0.7301, Validation Accuracy: 0.7099, Loss: 0.3867\n",
      "Epoch   6 Batch  400/1077 - Train Accuracy: 0.7691, Validation Accuracy: 0.7251, Loss: 0.4056\n",
      "Epoch   6 Batch  450/1077 - Train Accuracy: 0.7391, Validation Accuracy: 0.7227, Loss: 0.3935\n",
      "Epoch   6 Batch  500/1077 - Train Accuracy: 0.7602, Validation Accuracy: 0.7227, Loss: 0.3610\n",
      "Epoch   6 Batch  550/1077 - Train Accuracy: 0.7496, Validation Accuracy: 0.7358, Loss: 0.3717\n",
      "Epoch   6 Batch  600/1077 - Train Accuracy: 0.7407, Validation Accuracy: 0.7166, Loss: 0.3667\n",
      "Epoch   6 Batch  650/1077 - Train Accuracy: 0.7250, Validation Accuracy: 0.7173, Loss: 0.3879\n",
      "Epoch   6 Batch  700/1077 - Train Accuracy: 0.7410, Validation Accuracy: 0.7319, Loss: 0.3573\n",
      "Epoch   6 Batch  750/1077 - Train Accuracy: 0.7562, Validation Accuracy: 0.7198, Loss: 0.3570\n",
      "Epoch   6 Batch  800/1077 - Train Accuracy: 0.7328, Validation Accuracy: 0.7259, Loss: 0.3725\n",
      "Epoch   6 Batch  850/1077 - Train Accuracy: 0.7132, Validation Accuracy: 0.7188, Loss: 0.4068\n",
      "Epoch   6 Batch  900/1077 - Train Accuracy: 0.7496, Validation Accuracy: 0.7251, Loss: 0.3821\n",
      "Epoch   6 Batch  950/1077 - Train Accuracy: 0.7295, Validation Accuracy: 0.7241, Loss: 0.3568\n",
      "Epoch   6 Batch 1000/1077 - Train Accuracy: 0.7649, Validation Accuracy: 0.7290, Loss: 0.3441\n",
      "Epoch   6 Batch 1050/1077 - Train Accuracy: 0.7113, Validation Accuracy: 0.7138, Loss: 0.3636\n",
      "Epoch   7 Batch   50/1077 - Train Accuracy: 0.7402, Validation Accuracy: 0.7127, Loss: 0.3606\n",
      "Epoch   7 Batch  100/1077 - Train Accuracy: 0.7320, Validation Accuracy: 0.7227, Loss: 0.3737\n",
      "Epoch   7 Batch  150/1077 - Train Accuracy: 0.7727, Validation Accuracy: 0.7180, Loss: 0.3518\n",
      "Epoch   7 Batch  200/1077 - Train Accuracy: 0.7527, Validation Accuracy: 0.7283, Loss: 0.3714\n",
      "Epoch   7 Batch  250/1077 - Train Accuracy: 0.7482, Validation Accuracy: 0.7127, Loss: 0.3172\n",
      "Epoch   7 Batch  300/1077 - Train Accuracy: 0.7989, Validation Accuracy: 0.7259, Loss: 0.3650\n",
      "Epoch   7 Batch  350/1077 - Train Accuracy: 0.7355, Validation Accuracy: 0.7085, Loss: 0.3939\n",
      "Epoch   7 Batch  400/1077 - Train Accuracy: 0.7723, Validation Accuracy: 0.7237, Loss: 0.3875\n",
      "Epoch   7 Batch  450/1077 - Train Accuracy: 0.7078, Validation Accuracy: 0.7017, Loss: 0.3592\n",
      "Epoch   7 Batch  500/1077 - Train Accuracy: 0.7762, Validation Accuracy: 0.6989, Loss: 0.3532\n",
      "Epoch   7 Batch  550/1077 - Train Accuracy: 0.7656, Validation Accuracy: 0.7138, Loss: 0.3682\n",
      "Epoch   7 Batch  600/1077 - Train Accuracy: 0.7749, Validation Accuracy: 0.6989, Loss: 0.3538\n",
      "Epoch   7 Batch  650/1077 - Train Accuracy: 0.7160, Validation Accuracy: 0.7145, Loss: 0.3703\n",
      "Epoch   7 Batch  700/1077 - Train Accuracy: 0.7551, Validation Accuracy: 0.6854, Loss: 0.3618\n",
      "Epoch   7 Batch  750/1077 - Train Accuracy: 0.7676, Validation Accuracy: 0.7216, Loss: 0.3567\n",
      "Epoch   7 Batch  800/1077 - Train Accuracy: 0.7363, Validation Accuracy: 0.7287, Loss: 0.3588\n"
     ]
    }
   ],
   "source": [
    "\"\"\"\n",
    "DON'T MODIFY ANYTHING IN THIS CELL\n",
    "\"\"\"\n",
    "def get_accuracy(target, logits):\n",
    "    \"\"\"\n",
    "    Calculate accuracy\n",
    "    \"\"\"\n",
    "    max_seq = max(target.shape[1], logits.shape[1])\n",
    "    if max_seq - target.shape[1]:\n",
    "        target = np.pad(\n",
    "            target,\n",
    "            [(0,0),(0,max_seq - target.shape[1])],\n",
    "            'constant')\n",
    "    if max_seq - logits.shape[1]:\n",
    "        logits = np.pad(\n",
    "            logits,\n",
    "            [(0,0),(0,max_seq - logits.shape[1])],\n",
    "            'constant')\n",
    "\n",
    "    return np.mean(np.equal(target, logits))\n",
    "\n",
    "# Split data to training and validation sets\n",
    "train_source = source_int_text[batch_size:]\n",
    "train_target = target_int_text[batch_size:]\n",
    "valid_source = source_int_text[:batch_size]\n",
    "valid_target = target_int_text[:batch_size]\n",
    "(valid_sources_batch, valid_targets_batch, valid_sources_lengths, valid_targets_lengths ) = next(get_batches(valid_source,\n",
    "                                                                                                             valid_target,\n",
    "                                                                                                             batch_size,\n",
    "                                                                                                             source_vocab_to_int['<PAD>'],\n",
    "                                                                                                             target_vocab_to_int['<PAD>']))                                                                                                  \n",
    "with tf.Session(graph=train_graph) as sess:\n",
    "    sess.run(tf.global_variables_initializer())\n",
    "\n",
    "    for epoch_i in range(epochs):\n",
    "        for batch_i, (source_batch, target_batch, sources_lengths, targets_lengths) in enumerate(\n",
    "                get_batches(train_source, train_target, batch_size,\n",
    "                            source_vocab_to_int['<PAD>'],\n",
    "                            target_vocab_to_int['<PAD>'])):\n",
    "\n",
    "            _, loss = sess.run(\n",
    "                [train_op, cost],\n",
    "                {input_data: source_batch,\n",
    "                 targets: target_batch,\n",
    "                 lr: learning_rate,\n",
    "                 target_sequence_length: targets_lengths,\n",
    "                 source_sequence_length: sources_lengths,\n",
    "                 keep_prob: keep_probability})\n",
    "\n",
    "\n",
    "            if batch_i % display_step == 0 and batch_i > 0:\n",
    "\n",
    "\n",
    "                batch_train_logits = sess.run(\n",
    "                    inference_logits,\n",
    "                    {input_data: source_batch,\n",
    "                     source_sequence_length: sources_lengths,\n",
    "                     target_sequence_length: targets_lengths,\n",
    "                     keep_prob: 1.0})\n",
    "\n",
    "\n",
    "                batch_valid_logits = sess.run(\n",
    "                    inference_logits,\n",
    "                    {input_data: valid_sources_batch,\n",
    "                     source_sequence_length: valid_sources_lengths,\n",
    "                     target_sequence_length: valid_targets_lengths,\n",
    "                     keep_prob: 1.0})\n",
    "\n",
    "                train_acc = get_accuracy(target_batch, batch_train_logits)\n",
    "\n",
    "                valid_acc = get_accuracy(valid_targets_batch, batch_valid_logits)\n",
    "\n",
    "                print('Epoch {:>3} Batch {:>4}/{} - Train Accuracy: {:>6.4f}, Validation Accuracy: {:>6.4f}, Loss: {:>6.4f}'\n",
    "                      .format(epoch_i, batch_i, len(source_int_text) // batch_size, train_acc, valid_acc, loss))\n",
    "\n",
    "    # Save Model\n",
    "    saver = tf.train.Saver()\n",
    "    saver.save(sess, save_path)\n",
    "    print('Model Trained and Saved')"
   ]
  },
  {
   "cell_type": "markdown",
   "metadata": {},
   "source": [
    "### Save Parameters\n",
    "Save the `batch_size` and `save_path` parameters for inference."
   ]
  },
  {
   "cell_type": "code",
   "execution_count": null,
   "metadata": {
    "collapsed": true
   },
   "outputs": [],
   "source": [
    "\"\"\"\n",
    "DON'T MODIFY ANYTHING IN THIS CELL\n",
    "\"\"\"\n",
    "# Save parameters for checkpoint\n",
    "helper.save_params(save_path)"
   ]
  },
  {
   "cell_type": "markdown",
   "metadata": {},
   "source": [
    "# Checkpoint"
   ]
  },
  {
   "cell_type": "code",
   "execution_count": null,
   "metadata": {
    "collapsed": true
   },
   "outputs": [],
   "source": [
    "\"\"\"\n",
    "DON'T MODIFY ANYTHING IN THIS CELL\n",
    "\"\"\"\n",
    "import tensorflow as tf\n",
    "import numpy as np\n",
    "import helper\n",
    "import problem_unittests as tests\n",
    "\n",
    "_, (source_vocab_to_int, target_vocab_to_int), (source_int_to_vocab, target_int_to_vocab) = helper.load_preprocess()\n",
    "load_path = helper.load_params()"
   ]
  },
  {
   "cell_type": "markdown",
   "metadata": {},
   "source": [
    "## Sentence to Sequence\n",
    "To feed a sentence into the model for translation, you first need to preprocess it.  Implement the function `sentence_to_seq()` to preprocess new sentences.\n",
    "\n",
    "- Convert the sentence to lowercase\n",
    "- Convert words into ids using `vocab_to_int`\n",
    " - Convert words not in the vocabulary, to the `<UNK>` word id."
   ]
  },
  {
   "cell_type": "code",
   "execution_count": null,
   "metadata": {
    "collapsed": true
   },
   "outputs": [],
   "source": [
    "def sentence_to_seq(sentence, vocab_to_int):\n",
    "    \"\"\"\n",
    "    Convert a sentence to a sequence of ids\n",
    "    :param sentence: String\n",
    "    :param vocab_to_int: Dictionary to go from the words to an id\n",
    "    :return: List of word ids\n",
    "    \"\"\"\n",
    "    # TODO: Implement Function\n",
    "    return None\n",
    "\n",
    "\n",
    "\"\"\"\n",
    "DON'T MODIFY ANYTHING IN THIS CELL THAT IS BELOW THIS LINE\n",
    "\"\"\"\n",
    "tests.test_sentence_to_seq(sentence_to_seq)"
   ]
  },
  {
   "cell_type": "markdown",
   "metadata": {},
   "source": [
    "## Translate\n",
    "This will translate `translate_sentence` from English to French."
   ]
  },
  {
   "cell_type": "code",
   "execution_count": null,
   "metadata": {
    "collapsed": true
   },
   "outputs": [],
   "source": [
    "translate_sentence = 'he saw a old yellow truck .'\n",
    "\n",
    "\n",
    "\"\"\"\n",
    "DON'T MODIFY ANYTHING IN THIS CELL\n",
    "\"\"\"\n",
    "translate_sentence = sentence_to_seq(translate_sentence, source_vocab_to_int)\n",
    "\n",
    "loaded_graph = tf.Graph()\n",
    "with tf.Session(graph=loaded_graph) as sess:\n",
    "    # Load saved model\n",
    "    loader = tf.train.import_meta_graph(load_path + '.meta')\n",
    "    loader.restore(sess, load_path)\n",
    "\n",
    "    input_data = loaded_graph.get_tensor_by_name('input:0')\n",
    "    logits = loaded_graph.get_tensor_by_name('predictions:0')\n",
    "    target_sequence_length = loaded_graph.get_tensor_by_name('target_sequence_length:0')\n",
    "    source_sequence_length = loaded_graph.get_tensor_by_name('source_sequence_length:0')\n",
    "    keep_prob = loaded_graph.get_tensor_by_name('keep_prob:0')\n",
    "\n",
    "    translate_logits = sess.run(logits, {input_data: [translate_sentence]*batch_size,\n",
    "                                         target_sequence_length: [len(translate_sentence)*2]*batch_size,\n",
    "                                         source_sequence_length: [len(translate_sentence)]*batch_size,\n",
    "                                         keep_prob: 1.0})[0]\n",
    "\n",
    "print('Input')\n",
    "print('  Word Ids:      {}'.format([i for i in translate_sentence]))\n",
    "print('  English Words: {}'.format([source_int_to_vocab[i] for i in translate_sentence]))\n",
    "\n",
    "print('\\nPrediction')\n",
    "print('  Word Ids:      {}'.format([i for i in translate_logits]))\n",
    "print('  French Words: {}'.format(\" \".join([target_int_to_vocab[i] for i in translate_logits])))\n"
   ]
  },
  {
   "cell_type": "markdown",
   "metadata": {},
   "source": [
    "## Imperfect Translation\n",
    "You might notice that some sentences translate better than others.  Since the dataset you're using only has a vocabulary of 227 English words of the thousands that you use, you're only going to see good results using these words.  For this project, you don't need a perfect translation. However, if you want to create a better translation model, you'll need better data.\n",
    "\n",
    "You can train on the [WMT10 French-English corpus](http://www.statmt.org/wmt10/training-giga-fren.tar).  This dataset has more vocabulary and richer in topics discussed.  However, this will take you days to train, so make sure you've a GPU and the neural network is performing well on dataset we provided.  Just make sure you play with the WMT10 corpus after you've submitted this project.\n",
    "## Submitting This Project\n",
    "When submitting this project, make sure to run all the cells before saving the notebook. Save the notebook file as \"dlnd_language_translation.ipynb\" and save it as a HTML file under \"File\" -> \"Download as\". Include the \"helper.py\" and \"problem_unittests.py\" files in your submission."
   ]
  }
 ],
 "metadata": {
  "anaconda-cloud": {},
  "kernelspec": {
   "display_name": "Python 3",
   "language": "python",
   "name": "python3"
  },
  "language_info": {
   "codemirror_mode": {
    "name": "ipython",
    "version": 3
   },
   "file_extension": ".py",
   "mimetype": "text/x-python",
   "name": "python",
   "nbconvert_exporter": "python",
   "pygments_lexer": "ipython3",
   "version": "3.5.3"
  },
  "widgets": {
   "state": {},
   "version": "1.1.2"
  }
 },
 "nbformat": 4,
 "nbformat_minor": 1
}
